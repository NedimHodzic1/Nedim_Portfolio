import datetime
import math

# This will return the date that is n days before or after the date depending on user input
# param[in] n = days
# param[in] d = string in the following format : YYYY-MM-DD
def DateOffset(d,n):
    newdate = datetime.datetime.strptime(d,'%Y-%m-%d') + datetime.timedelta(days=n)
    return newdate

# This will return the factorial of n
# param[in] n = integer
def Factorial (n):
    p = math.factorial(n)
    return p

# This will takes a list of strings and return a list with the longest strings.
# param[in] s = string
def LongestString(s):
    Maximumlength = len(max(s,key = len))
    NewArray = []
    lengthofArray = len(s)
    
    for i in range(lengthofArray):
        if(len(s[i])==Maximumlength):
            NewArray.append(s[i])

    return NewArray

# This will take a string and check if it is a palindrome. The function should return a boolean value of true or false
# param[in] s = string
def isPalindrome(s):
    p = ""
    for i in s:
        p = i+p
    if (s==p):
        return (True)
    else:
        return (False)

# This will take 1 parameter, an integer c, between 1 and 99. 
# Using US coins of denominations $0.01, $0.05, $0.10, $0.25, $0.50 it will determine the combination needed to make C cent with the fewest coins
# param[in] c = coins (between 1 and 99)     
def MakeChange(c):
   fifty, twentyfive, ten, five, one = 0,0,0,0,0
   dictionary = {'$0.01': 0, '$0.05': 0, '$0.10': 0, '$0.25': 0, '$0.50': 0}
   while c > 0:
        if c >= 50:
            fifty += 1
            c -= 50
            dictionary["$0.50"] = fifty
        elif c >= 25:
            twentyfive += 1
            c -= 25
            dictionary["$0.25"] = twentyfive
        elif c >= 10:
            ten += 1
            c -= 10
            dictionary["$0.10"] = ten
        elif c >= 5:
            five += 1
            c -= 5
            dictionary["$0.05"] = five
        else:
            one += 1
            c -= 1
            dictionary["$0.01"] = one
            
            return dictionary

def main():
    #print(DateOffset('2022-12-31',-1))
    #print(Factorial(3))
    #print(LongestString(["aba", "aa", "ad", "vcd", "aba"]))
    #print(isPalindrome('racecars'))
    print(MakeChange(26))

if __name__ == '__main__':
    main()
