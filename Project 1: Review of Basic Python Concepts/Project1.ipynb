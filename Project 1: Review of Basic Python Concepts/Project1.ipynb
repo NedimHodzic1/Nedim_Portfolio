{
 "cells": [
  {
   "cell_type": "code",
   "execution_count": 87,
   "metadata": {},
   "outputs": [
    {
     "name": "stdout",
     "output_type": "stream",
     "text": [
      "{'$0.01': 1, '$0.05': 0, '$0.10': 0, '$0.25': 1, '$0.50': 0}\n"
     ]
    }
   ],
   "source": [
    "import datetime\n",
    "import math\n",
    "\n",
    "# This will return the date that is n days before or after the date depending on user input\n",
    "# param[in] n = days\n",
    "# param[in] d = string in the following format : YYYY-MM-DD\n",
    "def DateOffset(d,n):\n",
    "    newdate = datetime.datetime.strptime(d,'%Y-%m-%d') + datetime.timedelta(days=n)\n",
    "    return newdate\n",
    "\n",
    "# This will return the factorial of n\n",
    "# param[in] n = integer\n",
    "def Factorial (n):\n",
    "    p = math.factorial(n)\n",
    "    return p\n",
    "\n",
    "# This will takes a list of strings and return a list with the longest strings.\n",
    "# param[in] s = string\n",
    "def LongestString(s):\n",
    "    Maximumlength = len(max(s,key = len))\n",
    "    NewArray = []\n",
    "    lengthofArray = len(s)\n",
    "    \n",
    "    for i in range(lengthofArray):\n",
    "        if(len(s[i])==Maximumlength):\n",
    "            NewArray.append(s[i])\n",
    "\n",
    "    return NewArray\n",
    "\n",
    "# This will take a string and check if it is a palindrome. The function should return a boolean value of true or false\n",
    "# param[in] s = string\n",
    "def isPalindrome(s):\n",
    "    p = \"\"\n",
    "    for i in s:\n",
    "        p = i+p\n",
    "    if (s==p):\n",
    "        return (True)\n",
    "    else:\n",
    "        return (False)\n",
    "\n",
    "# This will take 1 parameter, an integer c, between 1 and 99. \n",
    "# Using US coins of denominations $0.01, $0.05, $0.10, $0.25, $0.50 it will determine the combination needed to make C cent with the fewest coins\n",
    "# param[in] c = coins (between 1 and 99)     \n",
    "def MakeChange(c):\n",
    "   fifty, twentyfive, ten, five, one = 0,0,0,0,0\n",
    "   dictionary = {'$0.01': 0, '$0.05': 0, '$0.10': 0, '$0.25': 0, '$0.50': 0}\n",
    "   while c > 0:\n",
    "        if c >= 50:\n",
    "            fifty += 1\n",
    "            c -= 50\n",
    "            dictionary[\"$0.50\"] = fifty\n",
    "        elif c >= 25:\n",
    "            twentyfive += 1\n",
    "            c -= 25\n",
    "            dictionary[\"$0.25\"] = twentyfive\n",
    "        elif c >= 10:\n",
    "            ten += 1\n",
    "            c -= 10\n",
    "            dictionary[\"$0.10\"] = ten\n",
    "        elif c >= 5:\n",
    "            five += 1\n",
    "            c -= 5\n",
    "            dictionary[\"$0.05\"] = five\n",
    "        else:\n",
    "            one += 1\n",
    "            c -= 1\n",
    "            dictionary[\"$0.01\"] = one\n",
    "            \n",
    "            return dictionary\n",
    "\n",
    "def main():\n",
    "    #print(DateOffset('2022-12-31',-1))\n",
    "    #print(Factorial(3))\n",
    "    #print(LongestString([\"aba\", \"aa\", \"ad\", \"vcd\", \"aba\"]))\n",
    "    #print(isPalindrome('racecars'))\n",
    "    print(MakeChange(26))\n",
    "\n",
    "if __name__ == '__main__':\n",
    "    main()"
   ]
  }
 ],
 "metadata": {
  "kernelspec": {
   "display_name": "Python 3.8.9 64-bit",
   "language": "python",
   "name": "python3"
  },
  "language_info": {
   "name": "python",
   "version": "3.8.9"
  },
  "orig_nbformat": 4,
  "vscode": {
   "interpreter": {
    "hash": "31f2aee4e71d21fbe5cf8b01ff0e069b9275f58929596ceb00d14d90e3e16cd6"
   }
  }
 },
 "nbformat": 4,
 "nbformat_minor": 2
}
